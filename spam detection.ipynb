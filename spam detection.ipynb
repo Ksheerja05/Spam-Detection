{
 "cells": [
  {
   "cell_type": "code",
   "execution_count": 9,
   "id": "46ded815",
   "metadata": {},
   "outputs": [],
   "source": [
    "import numpy as np\n",
    "import pandas as pd\n",
    "import matplotlib.pyplot as plt\n",
    "import seaborn as sns\n",
    "from warnings import simplefilter\n",
    "simplefilter(action='ignore', category=FutureWarning)"
   ]
  },
  {
   "cell_type": "code",
   "execution_count": 10,
   "id": "e584141f",
   "metadata": {},
   "outputs": [
    {
     "data": {
      "text/html": [
       "<div>\n",
       "<style scoped>\n",
       "    .dataframe tbody tr th:only-of-type {\n",
       "        vertical-align: middle;\n",
       "    }\n",
       "\n",
       "    .dataframe tbody tr th {\n",
       "        vertical-align: top;\n",
       "    }\n",
       "\n",
       "    .dataframe thead th {\n",
       "        text-align: right;\n",
       "    }\n",
       "</style>\n",
       "<table border=\"1\" class=\"dataframe\">\n",
       "  <thead>\n",
       "    <tr style=\"text-align: right;\">\n",
       "      <th></th>\n",
       "      <th>Unnamed: 0</th>\n",
       "      <th>Body</th>\n",
       "      <th>Label</th>\n",
       "    </tr>\n",
       "  </thead>\n",
       "  <tbody>\n",
       "    <tr>\n",
       "      <th>0</th>\n",
       "      <td>0</td>\n",
       "      <td>\\nSave up to 70% on Life Insurance.\\nWhy Spend...</td>\n",
       "      <td>1</td>\n",
       "    </tr>\n",
       "    <tr>\n",
       "      <th>1</th>\n",
       "      <td>1</td>\n",
       "      <td>1) Fight The Risk of Cancer!\\nhttp://www.adcli...</td>\n",
       "      <td>1</td>\n",
       "    </tr>\n",
       "    <tr>\n",
       "      <th>2</th>\n",
       "      <td>2</td>\n",
       "      <td>1) Fight The Risk of Cancer!\\nhttp://www.adcli...</td>\n",
       "      <td>1</td>\n",
       "    </tr>\n",
       "    <tr>\n",
       "      <th>3</th>\n",
       "      <td>3</td>\n",
       "      <td>##############################################...</td>\n",
       "      <td>1</td>\n",
       "    </tr>\n",
       "    <tr>\n",
       "      <th>4</th>\n",
       "      <td>4</td>\n",
       "      <td>I thought you might like these:\\n1) Slim Down ...</td>\n",
       "      <td>1</td>\n",
       "    </tr>\n",
       "  </tbody>\n",
       "</table>\n",
       "</div>"
      ],
      "text/plain": [
       "   Unnamed: 0                                               Body  Label\n",
       "0           0  \\nSave up to 70% on Life Insurance.\\nWhy Spend...      1\n",
       "1           1  1) Fight The Risk of Cancer!\\nhttp://www.adcli...      1\n",
       "2           2  1) Fight The Risk of Cancer!\\nhttp://www.adcli...      1\n",
       "3           3  ##############################################...      1\n",
       "4           4  I thought you might like these:\\n1) Slim Down ...      1"
      ]
     },
     "execution_count": 10,
     "metadata": {},
     "output_type": "execute_result"
    }
   ],
   "source": [
    "df=pd.read_csv(\"SpamData.csv\")\n",
    "df.head()"
   ]
  },
  {
   "cell_type": "code",
   "execution_count": 13,
   "id": "efef5742",
   "metadata": {},
   "outputs": [],
   "source": [
    "df.drop(\"Unnamed: 0\", axis=1, inplace=True)"
   ]
  },
  {
   "cell_type": "code",
   "execution_count": 14,
   "id": "20d41540",
   "metadata": {},
   "outputs": [
    {
     "data": {
      "text/plain": [
       "Body     1\n",
       "Label    0\n",
       "dtype: int64"
      ]
     },
     "execution_count": 14,
     "metadata": {},
     "output_type": "execute_result"
    }
   ],
   "source": [
    "df.isnull().sum()"
   ]
  },
  {
   "cell_type": "code",
   "execution_count": 18,
   "id": "631dcb1f",
   "metadata": {},
   "outputs": [],
   "source": [
    "df=df.rename(columns={'Body':'Email','Label':'Spam'})"
   ]
  },
  {
   "cell_type": "code",
   "execution_count": 22,
   "id": "1e7b1674",
   "metadata": {},
   "outputs": [
    {
     "data": {
      "text/plain": [
       "Email    object\n",
       "Spam      int64\n",
       "dtype: object"
      ]
     },
     "execution_count": 22,
     "metadata": {},
     "output_type": "execute_result"
    }
   ],
   "source": [
    "df.dtypes"
   ]
  },
  {
   "cell_type": "code",
   "execution_count": 26,
   "id": "00daa20b",
   "metadata": {},
   "outputs": [],
   "source": [
    "df[\"Email\"] = df[\"Email\"].astype(\"str\")"
   ]
  },
  {
   "cell_type": "code",
   "execution_count": 27,
   "id": "58dca8d9",
   "metadata": {},
   "outputs": [],
   "source": [
    "df2 = df"
   ]
  },
  {
   "cell_type": "code",
   "execution_count": 28,
   "id": "2be1ee98",
   "metadata": {},
   "outputs": [],
   "source": [
    "#New feature for email length\n",
    "email_length = []\n",
    "\n",
    "for email in df2['Email']:\n",
    "    email_length.append(len(email))\n",
    "    \n",
    "df2['Email length'] = email_length"
   ]
  },
  {
   "cell_type": "code",
   "execution_count": 29,
   "id": "eead4ace",
   "metadata": {},
   "outputs": [],
   "source": [
    "#New feature for number of special characters in email\n",
    "special_characters = []\n",
    "\n",
    "for email in df2['Email']:\n",
    "    special_characters_counter = 0\n",
    "    for char in email:\n",
    "        if not char.isalnum():\n",
    "            special_characters_counter+=1\n",
    "    special_characters.append(special_characters_counter)\n",
    "        \n",
    "df2['Special characters'] = special_characters"
   ]
  },
  {
   "cell_type": "code",
   "execution_count": 30,
   "id": "3dd63831",
   "metadata": {},
   "outputs": [],
   "source": [
    "#New feature for digit count in email\n",
    "digits = []\n",
    "\n",
    "for email in df2['Email']:\n",
    "    digits_counter = 0\n",
    "    for char in email:\n",
    "        if char.isdigit():\n",
    "            digits_counter+=1\n",
    "    digits.append(digits_counter)\n",
    "            \n",
    "            \n",
    "df2['Digits'] = digits"
   ]
  },
  {
   "cell_type": "code",
   "execution_count": 32,
   "id": "6b20371f",
   "metadata": {},
   "outputs": [],
   "source": [
    "#New feature for number of spam trigger words present in email\n",
    "spam_trigger_words = ['buy','click','get','free','order','save','limited']\n",
    "\n",
    "trigger_words = []\n",
    "\n",
    "for email in df2['Email']:\n",
    "    trigger_words_counter = 0\n",
    "    email = email.split()\n",
    "    for word in email:\n",
    "        if word.lower() in spam_trigger_words:\n",
    "            trigger_words_counter+=1\n",
    "    trigger_words.append(trigger_words_counter)\n",
    "    \n",
    "df2['Trigger words'] = trigger_words"
   ]
  },
  {
   "cell_type": "code",
   "execution_count": 33,
   "id": "7520817a",
   "metadata": {},
   "outputs": [
    {
     "data": {
      "text/html": [
       "<div>\n",
       "<style scoped>\n",
       "    .dataframe tbody tr th:only-of-type {\n",
       "        vertical-align: middle;\n",
       "    }\n",
       "\n",
       "    .dataframe tbody tr th {\n",
       "        vertical-align: top;\n",
       "    }\n",
       "\n",
       "    .dataframe thead th {\n",
       "        text-align: right;\n",
       "    }\n",
       "</style>\n",
       "<table border=\"1\" class=\"dataframe\">\n",
       "  <thead>\n",
       "    <tr style=\"text-align: right;\">\n",
       "      <th></th>\n",
       "      <th>Email</th>\n",
       "      <th>Spam</th>\n",
       "      <th>Email length</th>\n",
       "      <th>Special characters</th>\n",
       "      <th>Digits</th>\n",
       "      <th>Trigger words</th>\n",
       "    </tr>\n",
       "  </thead>\n",
       "  <tbody>\n",
       "    <tr>\n",
       "      <th>0</th>\n",
       "      <td>\\nSave up to 70% on Life Insurance.\\nWhy Spend...</td>\n",
       "      <td>1</td>\n",
       "      <td>1111</td>\n",
       "      <td>331</td>\n",
       "      <td>5</td>\n",
       "      <td>9</td>\n",
       "    </tr>\n",
       "    <tr>\n",
       "      <th>1</th>\n",
       "      <td>1) Fight The Risk of Cancer!\\nhttp://www.adcli...</td>\n",
       "      <td>1</td>\n",
       "      <td>753</td>\n",
       "      <td>176</td>\n",
       "      <td>51</td>\n",
       "      <td>2</td>\n",
       "    </tr>\n",
       "    <tr>\n",
       "      <th>2</th>\n",
       "      <td>1) Fight The Risk of Cancer!\\nhttp://www.adcli...</td>\n",
       "      <td>1</td>\n",
       "      <td>610</td>\n",
       "      <td>143</td>\n",
       "      <td>51</td>\n",
       "      <td>2</td>\n",
       "    </tr>\n",
       "    <tr>\n",
       "      <th>3</th>\n",
       "      <td>##############################################...</td>\n",
       "      <td>1</td>\n",
       "      <td>2863</td>\n",
       "      <td>1004</td>\n",
       "      <td>106</td>\n",
       "      <td>8</td>\n",
       "    </tr>\n",
       "    <tr>\n",
       "      <th>4</th>\n",
       "      <td>I thought you might like these:\\n1) Slim Down ...</td>\n",
       "      <td>1</td>\n",
       "      <td>641</td>\n",
       "      <td>144</td>\n",
       "      <td>34</td>\n",
       "      <td>2</td>\n",
       "    </tr>\n",
       "  </tbody>\n",
       "</table>\n",
       "</div>"
      ],
      "text/plain": [
       "                                               Email  Spam  Email length  \\\n",
       "0  \\nSave up to 70% on Life Insurance.\\nWhy Spend...     1          1111   \n",
       "1  1) Fight The Risk of Cancer!\\nhttp://www.adcli...     1           753   \n",
       "2  1) Fight The Risk of Cancer!\\nhttp://www.adcli...     1           610   \n",
       "3  ##############################################...     1          2863   \n",
       "4  I thought you might like these:\\n1) Slim Down ...     1           641   \n",
       "\n",
       "   Special characters  Digits  Trigger words  \n",
       "0                 331       5              9  \n",
       "1                 176      51              2  \n",
       "2                 143      51              2  \n",
       "3                1004     106              8  \n",
       "4                 144      34              2  "
      ]
     },
     "execution_count": 33,
     "metadata": {},
     "output_type": "execute_result"
    }
   ],
   "source": [
    "df2.head()"
   ]
  },
  {
   "cell_type": "code",
   "execution_count": 34,
   "id": "a12101a1",
   "metadata": {},
   "outputs": [
    {
     "name": "stdout",
     "output_type": "stream",
     "text": [
      "showing info https://raw.githubusercontent.com/nltk/nltk_data/gh-pages/index.xml\n"
     ]
    }
   ],
   "source": [
    "# Importing essential libraries for data preprocessing and nlp\n",
    "import re\n",
    "import nltk\n",
    "nltk.download()\n",
    "from nltk.corpus import stopwords\n",
    "from nltk.stem import WordNetLemmatizer\n",
    "from sklearn.feature_extraction.text import TfidfVectorizer"
   ]
  },
  {
   "cell_type": "code",
   "execution_count": 35,
   "id": "41498f3f",
   "metadata": {},
   "outputs": [
    {
     "data": {
      "text/plain": [
       "(4343, 6)"
      ]
     },
     "execution_count": 35,
     "metadata": {},
     "output_type": "execute_result"
    }
   ],
   "source": [
    "#dropping emails with length over 2000 and below 15\n",
    "\n",
    "df3 = df2[(df2['Email length']<2000) & (df2['Email length']>15)]\n",
    "df3.shape"
   ]
  },
  {
   "cell_type": "code",
   "execution_count": 36,
   "id": "6d68d40b",
   "metadata": {},
   "outputs": [],
   "source": [
    "# Data Cleaning\n",
    "corpus = []\n",
    "lemmatizer = WordNetLemmatizer()\n",
    "\n",
    "for email in df3['Email']:\n",
    "    # Remove subject, tabs and new lines\n",
    "    removed_tabs_newline = re.sub('[\\n|\\t]',' ',email)\n",
    "    removed_subject = re.sub('Subject:',' ',removed_tabs_newline)\n",
    "    \n",
    "    # Remove special characters and digits\n",
    "    removed_spchar_digits = re.sub('[^a-zA-Z]',' ',removed_subject)\n",
    "    \n",
    "    # Convert emails into lower case\n",
    "    lower_case_email = removed_spchar_digits.lower()\n",
    "    \n",
    "    # Tokenize the emails by words / split by words\n",
    "    tokenized_email = lower_case_email.split()\n",
    "    \n",
    "    # Remove stopwords\n",
    "    filtered_words = [word for word in tokenized_email if word not in stopwords.words('english')]\n",
    "    \n",
    "    # Lemmetize words\n",
    "    lemmetized_words = [lemmatizer.lemmatize(word) for word in filtered_words]\n",
    "    \n",
    "    # Build corpus of emails\n",
    "    email = ' '.join(lemmetized_words)\n",
    "    corpus.append(email)"
   ]
  },
  {
   "cell_type": "code",
   "execution_count": 38,
   "id": "17d19977",
   "metadata": {},
   "outputs": [],
   "source": [
    "# Creating vectors using TF-IDF\n",
    "\n",
    "tfidf = TfidfVectorizer(max_features=5000)\n",
    "vectors = tfidf.fit_transform(corpus).toarray()\n",
    "feature_names = tfidf.get_feature_names_out()\n",
    "\n",
    "# Extracting independent and dependent variables from the dataset\n",
    "X = pd.DataFrame(vectors, columns=feature_names)\n",
    "y = df3['Spam']"
   ]
  },
  {
   "cell_type": "code",
   "execution_count": 39,
   "id": "e8a1fd2c",
   "metadata": {},
   "outputs": [],
   "source": [
    "from sklearn.model_selection import train_test_split\n",
    "from sklearn.model_selection import cross_val_score\n",
    "from sklearn.metrics import classification_report, confusion_matrix\n",
    "from sklearn.naive_bayes import MultinomialNB"
   ]
  },
  {
   "cell_type": "code",
   "execution_count": 40,
   "id": "24c345fc",
   "metadata": {},
   "outputs": [],
   "source": [
    "X_train, X_test, y_train, y_test = train_test_split(X, y, test_size=0.30, random_state=0)"
   ]
  },
  {
   "cell_type": "code",
   "execution_count": 41,
   "id": "61e7c6f2",
   "metadata": {},
   "outputs": [
    {
     "name": "stdout",
     "output_type": "stream",
     "text": [
      "Model score on test data: 0.9800460475825019\n"
     ]
    }
   ],
   "source": [
    "classifier = MultinomialNB()\n",
    "classifier.fit(X_train,y_train)\n",
    "print('Model score on test data:',classifier.score(X_test,y_test))"
   ]
  },
  {
   "cell_type": "code",
   "execution_count": 42,
   "id": "2debf443",
   "metadata": {},
   "outputs": [
    {
     "data": {
      "text/plain": [
       "array([0.95785441, 0.96934866, 0.94636015, 0.95      , 0.94230769])"
      ]
     },
     "execution_count": 42,
     "metadata": {},
     "output_type": "execute_result"
    }
   ],
   "source": [
    "cross_val_score(classifier,X_test,y_test)"
   ]
  },
  {
   "cell_type": "code",
   "execution_count": 43,
   "id": "6f68f9db",
   "metadata": {},
   "outputs": [],
   "source": [
    "y_predicted = classifier.predict(X_test)"
   ]
  },
  {
   "cell_type": "code",
   "execution_count": 44,
   "id": "c06161cf",
   "metadata": {},
   "outputs": [
    {
     "data": {
      "text/plain": [
       "array([[928,   4],\n",
       "       [ 22, 349]], dtype=int64)"
      ]
     },
     "execution_count": 44,
     "metadata": {},
     "output_type": "execute_result"
    }
   ],
   "source": [
    "confusion_matrix_result = confusion_matrix(y_test,y_predicted)\n",
    "confusion_matrix_result"
   ]
  },
  {
   "cell_type": "code",
   "execution_count": 47,
   "id": "a340d28d",
   "metadata": {},
   "outputs": [
    {
     "data": {
      "image/png": "[encoded data removed]",
      "text/plain": [
       "<Figure size 576x432 with 2 Axes>"
      ]
     },
     "metadata": {
      "needs_background": "light"
     },
     "output_type": "display_data"
    }
   ],
   "source": [
    "labels = ['Not spam','Spam']\n",
    "plt.figure(figsize=(8,6))\n",
    "sns.heatmap(confusion_matrix_result,annot=True,cmap='YlGnBu',fmt='.0f',xticklabels=labels,yticklabels=labels)\n",
    "plt.xlabel('Predicted values')\n",
    "plt.ylabel('Actual values')\n",
    "plt.show()"
   ]
  },
  {
   "cell_type": "code",
   "execution_count": 46,
   "id": "e6b9f6ce",
   "metadata": {},
   "outputs": [
    {
     "name": "stdout",
     "output_type": "stream",
     "text": [
      "              precision    recall  f1-score   support\n",
      "\n",
      "           0       0.98      1.00      0.99       932\n",
      "           1       0.99      0.94      0.96       371\n",
      "\n",
      "    accuracy                           0.98      1303\n",
      "   macro avg       0.98      0.97      0.98      1303\n",
      "weighted avg       0.98      0.98      0.98      1303\n",
      "\n"
     ]
    }
   ],
   "source": [
    "classification_report_result = classification_report(y_test,y_predicted)\n",
    "print(classification_report_result)"
   ]
  },
  {
   "cell_type": "code",
   "execution_count": null,
   "id": "df95e40a",
   "metadata": {},
   "outputs": [],
   "source": []
  }
 ],
 "metadata": {
  "kernelspec": {
   "display_name": "Python 3 (ipykernel)",
   "language": "python",
   "name": "python3"
  },
  "language_info": {
   "codemirror_mode": {
    "name": "ipython",
    "version": 3
   },
   "file_extension": ".py",
   "mimetype": "text/x-python",
   "name": "python",
   "nbconvert_exporter": "python",
   "pygments_lexer": "ipython3",
   "version": "3.9.7"
  }
 },
 "nbformat": 4,
 "nbformat_minor": 5
}
